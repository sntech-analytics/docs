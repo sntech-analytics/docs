{
 "cells": [
  {
   "cell_type": "markdown",
   "id": "processed-robinson",
   "metadata": {},
   "source": [
    "# SafetyNet Technologies data analytics manifesto\n",
    "Maintainer: Craig Syms  \n",
    "<craig@sntech.co.uk>  \n",
    "\n",
    "## About this document\n",
    "This page serves as record, a manual, and a repository of information on the data analytics projects within SafetyNet Technologies.  \n",
    "\n",
    "Data analytics and analysis is a very interactive process. In the course of developing a line of investigation. we go in and out of a lot of rabbit holes. Some lead us somewhere useful, many are dead ends. However, even the dead ends guide analysis in some way. Documenting what is tried, evaluated and either retained or discarded is important to both anticipate and safeguard against challenges, and also to provide repeatability of results.\n",
    "\n",
    "This page is written using Jupyter notebook and the book is compiled by converting the markdown text to html and, where required, submitting and executing any code. So the book can be updated with new data as they come to hand. This is my first foray into it, and when I get more used to it I will expand the capabilities of the book.  \n",
    "\n",
    "Who is this intended for? Anyone in SNTech who is interested in the data analytics process. Much of the material in the book is either contained in the programming environment I use day-to-day (Jupyter Notebook), or added as explanatory material in report forms. So this is just an alternative or extension of the same material.\n",
    "\n",
    "Any comments or queries, please contact me <craig@sntech.co.uk>.\n"
   ]
  }
 ],
 "metadata": {
  "kernelspec": {
   "display_name": "Python 3",
   "language": "python",
   "name": "python3"
  },
  "language_info": {
   "codemirror_mode": {
    "name": "ipython",
    "version": 3
   },
   "file_extension": ".py",
   "mimetype": "text/x-python",
   "name": "python",
   "nbconvert_exporter": "python",
   "pygments_lexer": "ipython3",
   "version": "3.9.2"
  }
 },
 "nbformat": 4,
 "nbformat_minor": 5
}
