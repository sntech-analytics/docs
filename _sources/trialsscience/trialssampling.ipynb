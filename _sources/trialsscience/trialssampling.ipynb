{
 "cells": [
  {
   "cell_type": "markdown",
   "id": "inclusive-andrews",
   "metadata": {},
   "source": [
    "# On-board trial conduct and sampling\n",
    "\n",
    "Details to follow....\n",
    "- Sampling and subsampling protocols\n",
    "- Measurement details\n",
    "- Recording\n",
    "- Photos"
   ]
  },
  {
   "cell_type": "code",
   "execution_count": null,
   "id": "f22a6ecf",
   "metadata": {},
   "outputs": [],
   "source": []
  }
 ],
 "metadata": {
  "kernelspec": {
   "display_name": "Python 3",
   "language": "python",
   "name": "python3"
  },
  "language_info": {
   "codemirror_mode": {
    "name": "ipython",
    "version": 3
   },
   "file_extension": ".py",
   "mimetype": "text/x-python",
   "name": "python",
   "nbconvert_exporter": "python",
   "pygments_lexer": "ipython3",
   "version": "3.8.10"
  }
 },
 "nbformat": 4,
 "nbformat_minor": 5
}
