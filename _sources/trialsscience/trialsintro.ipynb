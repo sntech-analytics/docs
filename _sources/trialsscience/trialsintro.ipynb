{
 "cells": [
  {
   "cell_type": "markdown",
   "id": "inclusive-andrews",
   "metadata": {},
   "source": [
    "# How do we develop Pisces trial protocols?\n",
    "\n",
    "According to the SNT web page it's all very simple. We put *Pisces* on a net. It repels fish we don't want, attracts fish we *do* want - mission accomplished!  \n",
    "\n",
    "If only it were that straightforward...  \n",
    "\n",
    "Let's have a closer look at the science behind testing how *Pisces* can be a viable Bycatch Reduction Device, and worth the cost for industry to adopt. As a device, Pisces is very simple. It generates light of different colours, with different flash frequencies. We know fish perceive and respond to light. The challenge is to use this behaviour in a way that enables fish to interact with the gear in such a way that their catch rates are reduced/increased as required.  \n",
    "\n",
    "\n",
    "```{figure} PiscesStills.jpg\n",
    ":height: 350px\n",
    ":name: pisces-kit\n",
    "\n",
    "Pisces is fit-for-purpose and ready to deploy - But where, and how? \n",
    "```\n",
    "\n",
    "In the following sections we examine some of the details of trial development, focusing in particular on trawl gear. Why trawl gear? Because it is the fishery in which bycatch reduction needs are the greatest, and it is the most challenging environment in which to operate.  \n",
    "\n",
    "1. Pisces placement\n",
    "There are two main strategies we can use with Pisces. First, we can try to alter behaviour at the net entrance. This involves deploying Pisces along the headline (usually) on some setting that will hopefully deter species we do not want to catch, while not affecting the target catch. Second, we can illuminate escape panels. A trawl net is being towed at ~3 knots or more, so life within a trawl is not a particularly relaxing experience for a fish. Giving them every opportunity to locate escape devices will help.  \n",
    "The key element here is to understand the gear, the light environment around the gear, and the behavioural responses of the fish. When we understand these elements, then we can develop an approach to use this information to alter the catch composition.\n",
    "2. Experimental design\n",
    "Once we have a light placement strategy, then we need to develop an experimental protocol to unambiguously test whether the protocol light placement works. This stage is what will make or break a trial. An experimental test requires that we compare a treatment to a control (light vs non-light). When evaluating the difference, we must ensure the *only* difference between the two samples was the light. If we have any other systematic differences betweem treatment and control samples *other than light*, we have what is known as confounding. Confounding is like all the worst parts of the Book of Revelation rolled into one.\n",
    "3. On-deck sampling\n",
    "The is is the pointy end of the data collection process. We have deployed our lights, according to our sample schedule, and now we have fish on the deck. What do we do now? Each vessel and trial type will be different, so here I will focus on elements critical to ensuring the integrity of the trial. In particular, ensuring that we avoid control and treatment samples mixing.To quote Helmuth von Moltke the Elder, \"*Kein Operationsplan reicht mit einiger Sicherheit über das erste Zusammentreffen mit der feindlichen Hauptmacht hinaus*\".\n",
    "4. Data entry and annotation\n",
    "In the past we have used a bit of an expedient approach. I am developing a more future- and bomb-proof method, but this is still a work in progress particularly as will potentially developing new on board sampling protocols."
   ]
  },
  {
   "cell_type": "code",
   "execution_count": null,
   "id": "f22a6ecf",
   "metadata": {},
   "outputs": [],
   "source": []
  }
 ],
 "metadata": {
  "kernelspec": {
   "display_name": "Python 3",
   "language": "python",
   "name": "python3"
  },
  "language_info": {
   "codemirror_mode": {
    "name": "ipython",
    "version": 3
   },
   "file_extension": ".py",
   "mimetype": "text/x-python",
   "name": "python",
   "nbconvert_exporter": "python",
   "pygments_lexer": "ipython3",
   "version": "3.8.10"
  }
 },
 "nbformat": 4,
 "nbformat_minor": 5
}
