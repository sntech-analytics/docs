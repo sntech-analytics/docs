{
 "cells": [
  {
   "cell_type": "markdown",
   "id": "inclusive-andrews",
   "metadata": {},
   "source": [
    "# Data entry and management\n",
    "\n",
    "In progress...\n",
    "\n",
    "- Keep a field notebook\n",
    "- In your notebook keep an overview of samples collected (Date, which tow, treatment, net side etc plus comments)\n",
    "- Manually enter data in the notebook from notes, recordings etc (don't just rely on the computer entry)\n",
    "- Enter data as soon as possible\n",
    "- Physically check data entry\n",
    "- Data management"
   ]
  },
  {
   "cell_type": "code",
   "execution_count": null,
   "id": "f22a6ecf",
   "metadata": {},
   "outputs": [],
   "source": []
  }
 ],
 "metadata": {
  "kernelspec": {
   "display_name": "Python 3",
   "language": "python",
   "name": "python3"
  },
  "language_info": {
   "codemirror_mode": {
    "name": "ipython",
    "version": 3
   },
   "file_extension": ".py",
   "mimetype": "text/x-python",
   "name": "python",
   "nbconvert_exporter": "python",
   "pygments_lexer": "ipython3",
   "version": "3.8.10"
  }
 },
 "nbformat": 4,
 "nbformat_minor": 5
}
